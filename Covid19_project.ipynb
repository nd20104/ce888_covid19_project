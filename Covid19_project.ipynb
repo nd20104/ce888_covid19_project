{
 "cells": [
  {
   "cell_type": "code",
   "execution_count": 11,
   "metadata": {},
   "outputs": [],
   "source": [
    "from keras.applications import VGG16\n",
    "\n",
    "# VGG16 was designed to work on 224 x 224 pixel input images sizes\n",
    "img_rows = 224\n",
    "img_cols = 224 \n",
    "\n",
    "#Loads the VGG16 model \n",
    "model = VGG16(weights = 'imagenet', \n",
    "                 include_top = False, \n",
    "                 input_shape = (img_rows, img_cols, 3))"
   ]
  },
  {
   "cell_type": "code",
   "execution_count": 12,
   "metadata": {},
   "outputs": [
    {
     "name": "stdout",
     "output_type": "stream",
     "text": [
      "0 InputLayer True\n",
      "1 Conv2D True\n",
      "2 Conv2D True\n",
      "3 MaxPooling2D True\n",
      "4 Conv2D True\n",
      "5 Conv2D True\n",
      "6 MaxPooling2D True\n",
      "7 Conv2D True\n",
      "8 Conv2D True\n",
      "9 Conv2D True\n",
      "10 MaxPooling2D True\n",
      "11 Conv2D True\n",
      "12 Conv2D True\n",
      "13 Conv2D True\n",
      "14 MaxPooling2D True\n",
      "15 Conv2D True\n",
      "16 Conv2D True\n",
      "17 Conv2D True\n",
      "18 MaxPooling2D True\n"
     ]
    }
   ],
   "source": [
    "# Let's print our layers \n",
    "for (i,layer) in enumerate(model.layers):\n",
    "    print(str(i) + \" \"+ layer.__class__.__name__, layer.trainable)"
   ]
  },
  {
   "cell_type": "code",
   "execution_count": 13,
   "metadata": {},
   "outputs": [
    {
     "name": "stdout",
     "output_type": "stream",
     "text": [
      "0 InputLayer False\n",
      "1 Conv2D False\n",
      "2 Conv2D False\n",
      "3 MaxPooling2D False\n",
      "4 Conv2D False\n",
      "5 Conv2D False\n",
      "6 MaxPooling2D False\n",
      "7 Conv2D False\n",
      "8 Conv2D False\n",
      "9 Conv2D False\n",
      "10 MaxPooling2D False\n",
      "11 Conv2D False\n",
      "12 Conv2D False\n",
      "13 Conv2D False\n",
      "14 MaxPooling2D False\n",
      "15 Conv2D False\n",
      "16 Conv2D False\n",
      "17 Conv2D False\n",
      "18 MaxPooling2D False\n"
     ]
    }
   ],
   "source": [
    "from keras.applications import VGG16\n",
    "\n",
    "# VGG16 was designed to work on 224 x 224 pixel input images sizes\n",
    "img_rows = 224\n",
    "img_cols = 224 \n",
    "\n",
    "# Re-loads the VGG16 model without the top or FC layers\n",
    "model = VGG16(weights = 'imagenet', \n",
    "                 include_top = False, \n",
    "                 input_shape = (img_rows, img_cols, 3))\n",
    "\n",
    "# Here we freeze the last 4 layers \n",
    "# Layers are set to trainable as True by default\n",
    "for layer in model.layers:\n",
    "    layer.trainable = False\n",
    "    \n",
    "# Let's print our layers \n",
    "for (i,layer) in enumerate(model.layers):\n",
    "    print(str(i) + \" \"+ layer.__class__.__name__, layer.trainable)"
   ]
  },
  {
   "cell_type": "code",
   "execution_count": 14,
   "metadata": {},
   "outputs": [],
   "source": [
    "def addTopModel(bottom_model, num_classes, D=256):\n",
    "    \"\"\"creates the top or head of the model that will be \n",
    "    placed ontop of the bottom layers\"\"\"\n",
    "    top_model = bottom_model.output\n",
    "    top_model = Flatten(name = \"flatten\")(top_model)\n",
    "    top_model = Dense(D, activation = \"tanh\")(top_model)\n",
    "    top_model = Dropout(0.50)(top_model)\n",
    "    top_model = Dense(num_classes, activation = \"softmax\")(top_model)\n",
    "    return top_model"
   ]
  },
  {
   "cell_type": "code",
   "execution_count": 15,
   "metadata": {},
   "outputs": [
    {
     "data": {
      "text/plain": [
       "<tf.Tensor 'input_4:0' shape=(None, 224, 224, 3) dtype=float32>"
      ]
     },
     "execution_count": 15,
     "metadata": {},
     "output_type": "execute_result"
    }
   ],
   "source": [
    "model.input"
   ]
  },
  {
   "cell_type": "code",
   "execution_count": 16,
   "metadata": {},
   "outputs": [
    {
     "data": {
      "text/plain": [
       "[<tensorflow.python.keras.engine.input_layer.InputLayer at 0x25c5cc90ca0>,\n",
       " <tensorflow.python.keras.layers.convolutional.Conv2D at 0x25c5cac3760>,\n",
       " <tensorflow.python.keras.layers.convolutional.Conv2D at 0x25c5cac3340>,\n",
       " <tensorflow.python.keras.layers.pooling.MaxPooling2D at 0x25c5cac3280>,\n",
       " <tensorflow.python.keras.layers.convolutional.Conv2D at 0x25c00aaa610>,\n",
       " <tensorflow.python.keras.layers.convolutional.Conv2D at 0x25c00aaaa30>,\n",
       " <tensorflow.python.keras.layers.pooling.MaxPooling2D at 0x25c00be2820>,\n",
       " <tensorflow.python.keras.layers.convolutional.Conv2D at 0x25c00be8df0>,\n",
       " <tensorflow.python.keras.layers.convolutional.Conv2D at 0x25c00bed340>,\n",
       " <tensorflow.python.keras.layers.convolutional.Conv2D at 0x25c00bf1190>,\n",
       " <tensorflow.python.keras.layers.pooling.MaxPooling2D at 0x25c00aad7c0>,\n",
       " <tensorflow.python.keras.layers.convolutional.Conv2D at 0x25c00c007c0>,\n",
       " <tensorflow.python.keras.layers.convolutional.Conv2D at 0x25c00c00fa0>,\n",
       " <tensorflow.python.keras.layers.convolutional.Conv2D at 0x25c00c05730>,\n",
       " <tensorflow.python.keras.layers.pooling.MaxPooling2D at 0x25c00c0ef40>,\n",
       " <tensorflow.python.keras.layers.convolutional.Conv2D at 0x25c00c111c0>,\n",
       " <tensorflow.python.keras.layers.convolutional.Conv2D at 0x25c00c167f0>,\n",
       " <tensorflow.python.keras.layers.convolutional.Conv2D at 0x25c00c1ea30>,\n",
       " <tensorflow.python.keras.layers.pooling.MaxPooling2D at 0x25c00c25700>]"
      ]
     },
     "execution_count": 16,
     "metadata": {},
     "output_type": "execute_result"
    }
   ],
   "source": [
    "model.layers"
   ]
  },
  {
   "cell_type": "code",
   "execution_count": 17,
   "metadata": {
    "scrolled": true
   },
   "outputs": [
    {
     "name": "stdout",
     "output_type": "stream",
     "text": [
      "Model: \"functional_3\"\n",
      "_________________________________________________________________\n",
      "Layer (type)                 Output Shape              Param #   \n",
      "=================================================================\n",
      "input_4 (InputLayer)         [(None, 224, 224, 3)]     0         \n",
      "_________________________________________________________________\n",
      "block1_conv1 (Conv2D)        (None, 224, 224, 64)      1792      \n",
      "_________________________________________________________________\n",
      "block1_conv2 (Conv2D)        (None, 224, 224, 64)      36928     \n",
      "_________________________________________________________________\n",
      "block1_pool (MaxPooling2D)   (None, 112, 112, 64)      0         \n",
      "_________________________________________________________________\n",
      "block2_conv1 (Conv2D)        (None, 112, 112, 128)     73856     \n",
      "_________________________________________________________________\n",
      "block2_conv2 (Conv2D)        (None, 112, 112, 128)     147584    \n",
      "_________________________________________________________________\n",
      "block2_pool (MaxPooling2D)   (None, 56, 56, 128)       0         \n",
      "_________________________________________________________________\n",
      "block3_conv1 (Conv2D)        (None, 56, 56, 256)       295168    \n",
      "_________________________________________________________________\n",
      "block3_conv2 (Conv2D)        (None, 56, 56, 256)       590080    \n",
      "_________________________________________________________________\n",
      "block3_conv3 (Conv2D)        (None, 56, 56, 256)       590080    \n",
      "_________________________________________________________________\n",
      "block3_pool (MaxPooling2D)   (None, 28, 28, 256)       0         \n",
      "_________________________________________________________________\n",
      "block4_conv1 (Conv2D)        (None, 28, 28, 512)       1180160   \n",
      "_________________________________________________________________\n",
      "block4_conv2 (Conv2D)        (None, 28, 28, 512)       2359808   \n",
      "_________________________________________________________________\n",
      "block4_conv3 (Conv2D)        (None, 28, 28, 512)       2359808   \n",
      "_________________________________________________________________\n",
      "block4_pool (MaxPooling2D)   (None, 14, 14, 512)       0         \n",
      "_________________________________________________________________\n",
      "block5_conv1 (Conv2D)        (None, 14, 14, 512)       2359808   \n",
      "_________________________________________________________________\n",
      "block5_conv2 (Conv2D)        (None, 14, 14, 512)       2359808   \n",
      "_________________________________________________________________\n",
      "block5_conv3 (Conv2D)        (None, 14, 14, 512)       2359808   \n",
      "_________________________________________________________________\n",
      "block5_pool (MaxPooling2D)   (None, 7, 7, 512)         0         \n",
      "_________________________________________________________________\n",
      "flatten (Flatten)            (None, 25088)             0         \n",
      "_________________________________________________________________\n",
      "dense_2 (Dense)              (None, 256)               6422784   \n",
      "_________________________________________________________________\n",
      "dropout_1 (Dropout)          (None, 256)               0         \n",
      "_________________________________________________________________\n",
      "dense_3 (Dense)              (None, 2)                 514       \n",
      "=================================================================\n",
      "Total params: 21,137,986\n",
      "Trainable params: 6,423,298\n",
      "Non-trainable params: 14,714,688\n",
      "_________________________________________________________________\n",
      "None\n"
     ]
    }
   ],
   "source": [
    "from keras.models import Sequential\n",
    "from keras.layers import Dense, Dropout, Activation, Flatten\n",
    "from keras.layers import Conv2D, MaxPooling2D, ZeroPadding2D\n",
    "from keras.layers.normalization import BatchNormalization\n",
    "from keras.models import Model\n",
    "\n",
    "num_classes = 2\n",
    "\n",
    "FC_Head = addTopModel(model, num_classes)\n",
    "\n",
    "modelnew = Model(inputs=model.input, outputs=FC_Head)\n",
    "\n",
    "print(modelnew.summary())"
   ]
  },
  {
   "cell_type": "code",
   "execution_count": 18,
   "metadata": {},
   "outputs": [
    {
     "name": "stdout",
     "output_type": "stream",
     "text": [
      "Found 522 images belonging to 2 classes.\n",
      "Found 224 images belonging to 2 classes.\n"
     ]
    }
   ],
   "source": [
    "from keras.preprocessing.image import ImageDataGenerator\n",
    "\n",
    "#train_data_dir = '/home/gehu/Downloads/Untitled Folder 3/EXTERNALEYE DISEASES/Eye Diseases Vol.1/train3'\n",
    "#validation_data_dir = '/home/gehu/Downloads/Untitled Folder 3/EXTERNALEYE DISEASES/Eye Diseases Vol.1/test1'\n",
    "\n",
    "train_data_dir = 'D:/Amit/Umang Data/24 Aug 2021/Train'\n",
    "validation_data_dir = 'D:/Amit/Umang Data/24 Aug 2021/Test'\n",
    "#test_data_dir = 'D:/Amit/Umang Data/24 Aug 2021/Validation'\n",
    "#validation_data_dir = 'D:/Amit/Umang Data/24 Aug 2021/Validation'\n",
    "\n",
    "train_datagen = ImageDataGenerator(\n",
    "      rescale=1./255,\n",
    "      rotation_range=20,\n",
    "      width_shift_range=0.2,\n",
    "      height_shift_range=0.2,\n",
    "      horizontal_flip=True,\n",
    "      fill_mode='nearest')\n",
    " \n",
    "validation_datagen = ImageDataGenerator(rescale=1./255)\n",
    " \n",
    "# Change the batchsize according to your system RAM\n",
    "train_batchsize = 10\n",
    "val_batchsize = 10\n",
    " \n",
    "train_generator = train_datagen.flow_from_directory(\n",
    "        train_data_dir,\n",
    "        target_size=(img_rows, img_cols),\n",
    "        batch_size=train_batchsize,\n",
    "        class_mode='categorical')\n",
    " \n",
    "validation_generator = validation_datagen.flow_from_directory(\n",
    "        validation_data_dir,\n",
    "        target_size=(img_rows, img_cols),\n",
    "        batch_size=val_batchsize,\n",
    "        class_mode='categorical',\n",
    "        shuffle=False)"
   ]
  },
  {
   "cell_type": "code",
   "execution_count": 19,
   "metadata": {
    "scrolled": true
   },
   "outputs": [
    {
     "name": "stdout",
     "output_type": "stream",
     "text": [
      "Epoch 1/20\n",
      "52/52 [==============================] - 86s 2s/step - loss: 1.1842 - accuracy: 0.5176 - val_loss: 0.6298 - val_accuracy: 0.6667\n",
      "Epoch 2/20\n",
      "52/52 [==============================] - 92s 2s/step - loss: 0.9553 - accuracy: 0.6094 - val_loss: 0.6335 - val_accuracy: 0.6833\n",
      "Epoch 3/20\n",
      "52/52 [==============================] - 96s 2s/step - loss: 0.8407 - accuracy: 0.6445 - val_loss: 0.2012 - val_accuracy: 0.9417\n",
      "Epoch 4/20\n",
      "52/52 [==============================] - 109s 2s/step - loss: 0.7864 - accuracy: 0.6621 - val_loss: 0.3861 - val_accuracy: 0.8333\n",
      "Epoch 5/20\n",
      "52/52 [==============================] - 108s 2s/step - loss: 0.7597 - accuracy: 0.6641 - val_loss: 0.2827 - val_accuracy: 0.8833\n",
      "Epoch 6/20\n",
      "52/52 [==============================] - 108s 2s/step - loss: 0.7811 - accuracy: 0.6562 - val_loss: 2.0311 - val_accuracy: 0.3000\n",
      "Epoch 7/20\n",
      "52/52 [==============================] - 108s 2s/step - loss: 0.7460 - accuracy: 0.6797 - val_loss: 0.4984 - val_accuracy: 0.7500\n",
      "Epoch 8/20\n",
      "52/52 [==============================] - 109s 2s/step - loss: 0.7497 - accuracy: 0.6875 - val_loss: 0.4606 - val_accuracy: 0.7750\n",
      "Epoch 9/20\n",
      "52/52 [==============================] - 109s 2s/step - loss: 0.6551 - accuracy: 0.7285 - val_loss: 0.8009 - val_accuracy: 0.6917\n",
      "Epoch 10/20\n",
      "52/52 [==============================] - 109s 2s/step - loss: 0.7254 - accuracy: 0.6973 - val_loss: 0.6006 - val_accuracy: 0.7250\n",
      "Epoch 11/20\n",
      "52/52 [==============================] - 109s 2s/step - loss: 0.7267 - accuracy: 0.6992 - val_loss: 0.3263 - val_accuracy: 0.8417\n",
      "Epoch 12/20\n",
      "52/52 [==============================] - 109s 2s/step - loss: 0.6434 - accuracy: 0.7188 - val_loss: 0.3242 - val_accuracy: 0.8417\n",
      "Epoch 13/20\n",
      "52/52 [==============================] - 109s 2s/step - loss: 0.6821 - accuracy: 0.6992 - val_loss: 0.3574 - val_accuracy: 0.8333\n",
      "Epoch 14/20\n",
      "52/52 [==============================] - 109s 2s/step - loss: 0.6249 - accuracy: 0.7383 - val_loss: 0.5533 - val_accuracy: 0.7750\n",
      "Epoch 15/20\n",
      "52/52 [==============================] - 109s 2s/step - loss: 0.5930 - accuracy: 0.7363 - val_loss: 0.6396 - val_accuracy: 0.7250\n",
      "Epoch 16/20\n",
      "52/52 [==============================] - 109s 2s/step - loss: 0.5793 - accuracy: 0.7520 - val_loss: 0.2560 - val_accuracy: 0.9000\n",
      "Epoch 17/20\n",
      "52/52 [==============================] - 109s 2s/step - loss: 0.5252 - accuracy: 0.7637 - val_loss: 0.8406 - val_accuracy: 0.6750\n",
      "Epoch 18/20\n",
      "52/52 [==============================] - 109s 2s/step - loss: 0.4723 - accuracy: 0.8027 - val_loss: 0.6200 - val_accuracy: 0.7333\n",
      "Epoch 19/20\n",
      "52/52 [==============================] - 108s 2s/step - loss: 0.5466 - accuracy: 0.7793 - val_loss: 0.3792 - val_accuracy: 0.8333\n",
      "Epoch 20/20\n",
      "52/52 [==============================] - 109s 2s/step - loss: 0.5651 - accuracy: 0.7754 - val_loss: 0.3025 - val_accuracy: 0.8750\n"
     ]
    }
   ],
   "source": [
    "from keras.optimizers import RMSprop, Adam\n",
    "from keras.callbacks import ModelCheckpoint, EarlyStopping\n",
    "checkpoint = ModelCheckpoint(\"model.h5\",\n",
    "                             monitor=\"val_accuracy\",\n",
    "                             mode=\"max\",\n",
    "                             save_best_only = True,\n",
    "                             verbose=1)\n",
    "\n",
    "earlystop = EarlyStopping(monitor = 'val_accuracy', \n",
    "                          min_delta = 0, \n",
    "                          patience = 5,\n",
    "                          verbose = 1,\n",
    "                          restore_best_weights = True)\n",
    "\n",
    "# we put our call backs into a callback list\n",
    "callbacks = [earlystop, checkpoint]                 \n",
    "\n",
    "\n",
    "# Note we use a very small learning rate \n",
    "modelnew.compile(loss = 'categorical_crossentropy',\n",
    "              optimizer = RMSprop(lr = 0.0001),\n",
    "              metrics = ['accuracy'])\n",
    "\n",
    "nb_train_samples = 520\n",
    "nb_validation_samples =120\n",
    "epochs = 20\n",
    "batch_size = 10\n",
    "\n",
    "history = modelnew.fit_generator(\n",
    "    train_generator,\n",
    "    steps_per_epoch = nb_train_samples // batch_size,\n",
    "    epochs = epochs,\n",
    "   # callbacks = callbacks,\n",
    "    validation_data = validation_generator,\n",
    "    validation_steps = nb_validation_samples // batch_size)\n",
    "\n",
    "modelnew.save(\"model.h5\")"
   ]
  },
  {
   "cell_type": "code",
   "execution_count": 20,
   "metadata": {},
   "outputs": [
    {
     "data": {
      "image/png": "[encoded data removed]",
      "text/plain": [
       "<Figure size 432x288 with 1 Axes>"
      ]
     },
     "metadata": {
      "needs_background": "light"
     },
     "output_type": "display_data"
    }
   ],
   "source": [
    "import matplotlib.pyplot as plt\n",
    "plt.plot(history.history[\"accuracy\"])\n",
    "plt.plot(history.history['val_accuracy'])\n",
    "plt.plot(history.history['loss'])\n",
    "plt.plot(history.history['val_loss'])\n",
    "plt.title(\"model accuracy\")\n",
    "plt.ylabel(\"Accuracy\")\n",
    "plt.xlabel(\"Epoch\")\n",
    "plt.legend([\"Accuracy\",\"Validation Accuracy\",\"loss\",\"Validation Loss\"])\n",
    "plt.show()"
   ]
  },
  {
   "cell_type": "code",
   "execution_count": null,
   "metadata": {},
   "outputs": [],
   "source": []
  }
 ],
 "metadata": {
  "kernelspec": {
   "display_name": "Python 3",
   "language": "python",
   "name": "python3"
  },
  "language_info": {
   "codemirror_mode": {
    "name": "ipython",
    "version": 3
   },
   "file_extension": ".py",
   "mimetype": "text/x-python",
   "name": "python",
   "nbconvert_exporter": "python",
   "pygments_lexer": "ipython3",
   "version": "3.8.8"
  }
 },
 "nbformat": 4,
 "nbformat_minor": 2
}
